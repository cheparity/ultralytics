{
 "cells": [
  {
   "cell_type": "code",
   "execution_count": 1,
   "metadata": {},
   "outputs": [],
   "source": [
    "from ultralytics import YOLO\n",
    "import os"
   ]
  },
  {
   "cell_type": "code",
   "execution_count": null,
   "metadata": {},
   "outputs": [
    {
     "data": {
      "text/plain": [
       "'/Users/liuyucheng/Projects/yolov11'"
      ]
     },
     "execution_count": 5,
     "metadata": {},
     "output_type": "execute_result"
    }
   ],
   "source": [
    "cwd = os.getcwd()\n",
    "cwd"
   ]
  },
  {
   "cell_type": "code",
   "execution_count": null,
   "metadata": {},
   "outputs": [],
   "source": [
    "# 加载模型\n",
    "model = YOLO(\"yolo11n.pt\")\n",
    "\n",
    "# 训练模型\n",
    "train_results = model.train(\n",
    "    data=f\"{cwd}/ultralytics/cfg/datasets/tinyperson.yaml\",  # 数据集 YAML 路径\n",
    "    epochs=100,  # 训练轮次\n",
    "    imgsz=640,  # 训练图像尺寸\n",
    "    device=\"mps\",  # 运行设备，例如 device=0 或 device=0,1,2,3 或 device=cpu\n",
    ")"
   ]
  },
  {
   "cell_type": "code",
   "execution_count": null,
   "metadata": {},
   "outputs": [],
   "source": [
    "# 在图像上执行对象检测\n",
    "results = model(\n",
    "    f\"{cwd}/ultralytics/cfg/datasets/tinyperson/test/images/baidu_P000_4_jpg.rf.b5255d9f0b569e85fab6d0998a6dbfb0.jpg\"\n",
    ")\n",
    "results[0].show()\n",
    "\n",
    "# 将模型导出为 ONNX 格式\n",
    "path = model.export(format=\"onnx\")  # 返回导出模型的路径\n"
   ]
  }
 ],
 "metadata": {
  "kernelspec": {
   "display_name": ".venv",
   "language": "python",
   "name": "python3"
  },
  "language_info": {
   "codemirror_mode": {
    "name": "ipython",
    "version": 3
   },
   "file_extension": ".py",
   "mimetype": "text/x-python",
   "name": "python",
   "nbconvert_exporter": "python",
   "pygments_lexer": "ipython3",
   "version": "3.12.7"
  }
 },
 "nbformat": 4,
 "nbformat_minor": 2
}
